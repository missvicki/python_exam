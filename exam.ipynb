{
 "cells": [
  {
   "cell_type": "code",
   "execution_count": 1,
   "id": "24ae2e04",
   "metadata": {},
   "outputs": [],
   "source": [
    "# import modules\n",
    "import pandas as pd\n",
    "import numpy as np\n",
    "import matplotlib.pyplot as plt"
   ]
  },
  {
   "cell_type": "markdown",
   "id": "a88e7f18",
   "metadata": {},
   "source": [
    "## Part 1: Basic Python"
   ]
  },
  {
   "cell_type": "markdown",
   "id": "c975c79d",
   "metadata": {},
   "source": [
    "Question 1: Add up all the numbers from 1 to 100 (e.g. 1, 2, 3, ... , 99, 100)."
   ]
  },
  {
   "cell_type": "code",
   "execution_count": 2,
   "id": "995981b7",
   "metadata": {},
   "outputs": [
    {
     "name": "stdout",
     "output_type": "stream",
     "text": [
      "5050\n"
     ]
    }
   ],
   "source": [
    "sum_all = 0\n",
    "for i in range(1, 101):\n",
    "    sum_all += i\n",
    "print(sum_all)"
   ]
  },
  {
   "cell_type": "markdown",
   "id": "1fdf672b",
   "metadata": {},
   "source": [
    "Question 2: Add up all the even numbers from 1 to 100 (e.g. 2, 4, 6, ... 98, 100)."
   ]
  },
  {
   "cell_type": "code",
   "execution_count": 3,
   "id": "935abd20",
   "metadata": {},
   "outputs": [
    {
     "name": "stdout",
     "output_type": "stream",
     "text": [
      "2550\n"
     ]
    }
   ],
   "source": [
    "sum_even = 0\n",
    "for i in range(2, 101):\n",
    "    if i % 2 == 0:\n",
    "        sum_even += i\n",
    "print(sum_even)"
   ]
  },
  {
   "cell_type": "markdown",
   "id": "8ff29f9f",
   "metadata": {},
   "source": [
    "Question 3: What is the type of the variable x defined as x = 42.0?"
   ]
  },
  {
   "cell_type": "code",
   "execution_count": 4,
   "id": "4c8f9e29",
   "metadata": {},
   "outputs": [
    {
     "data": {
      "text/plain": [
       "float"
      ]
     },
     "execution_count": 4,
     "metadata": {},
     "output_type": "execute_result"
    }
   ],
   "source": [
    "x = 42.0\n",
    "type(x)"
   ]
  },
  {
   "cell_type": "markdown",
   "id": "3e8405e5",
   "metadata": {},
   "source": [
    "Question 4: Consider the list my_list = [42, 47, 1.168, 3.14, 8, -5]. What code would return the first three entries of my_list?"
   ]
  },
  {
   "cell_type": "code",
   "execution_count": 5,
   "id": "2aa25f8f",
   "metadata": {},
   "outputs": [],
   "source": [
    "my_list = [42, 47, 1.168, 3.14, 8, -5]"
   ]
  },
  {
   "cell_type": "code",
   "execution_count": 6,
   "id": "d2d62159",
   "metadata": {},
   "outputs": [
    {
     "data": {
      "text/plain": [
       "[42, 47, 1.168]"
      ]
     },
     "execution_count": 6,
     "metadata": {},
     "output_type": "execute_result"
    }
   ],
   "source": [
    "my_list[0:3]"
   ]
  },
  {
   "cell_type": "markdown",
   "id": "e013fa35",
   "metadata": {},
   "source": [
    "Question 5: What code would return the last entry of my_list?"
   ]
  },
  {
   "cell_type": "code",
   "execution_count": 7,
   "id": "367afcd5",
   "metadata": {},
   "outputs": [
    {
     "data": {
      "text/plain": [
       "-5"
      ]
     },
     "execution_count": 7,
     "metadata": {},
     "output_type": "execute_result"
    }
   ],
   "source": [
    "my_list[-1]"
   ]
  },
  {
   "cell_type": "markdown",
   "id": "94b0c7af",
   "metadata": {},
   "source": [
    "Question 6: What is the value of $2^{8} / 23$ (rounded to two decimal places)"
   ]
  },
  {
   "cell_type": "code",
   "execution_count": 8,
   "id": "fbdb4c7b",
   "metadata": {},
   "outputs": [
    {
     "data": {
      "text/plain": [
       "11.130434782608695"
      ]
     },
     "execution_count": 8,
     "metadata": {},
     "output_type": "execute_result"
    }
   ],
   "source": [
    "2 ** 8 / 23"
   ]
  },
  {
   "cell_type": "code",
   "execution_count": 9,
   "id": "f2fffd14",
   "metadata": {},
   "outputs": [
    {
     "data": {
      "text/plain": [
       "11.13"
      ]
     },
     "execution_count": 9,
     "metadata": {},
     "output_type": "execute_result"
    }
   ],
   "source": [
    "round(2 ** 8 / 23, 2)"
   ]
  },
  {
   "cell_type": "markdown",
   "id": "5cf5085d",
   "metadata": {},
   "source": [
    "Question 7: Write a function that takes two arguments (x and y) and evaluates the following equation:\n",
    "\n",
    "$\\frac{1}{10^5}\\sum_{n = 1}^{10^5}(\\frac{y + \\frac{4y}{nx}}{\\frac{x}{2}})^n$\n",
    "\n",
    "What is the value of this function when x = 4 and y = 2 (to 5 decimal places)?"
   ]
  },
  {
   "cell_type": "code",
   "execution_count": 10,
   "id": "79d3f32b",
   "metadata": {},
   "outputs": [],
   "source": [
    "n = 1\n",
    "maxi = 10 ** 5\n",
    "def calculate_sum(x,y):\n",
    "    for i in range(n, maxi+1):\n",
    "        sum = (1 / (10 ** 5)) * ((y + ((4 * y)/(n*x)))/(x/2)) ** n \n",
    "    return sum"
   ]
  },
  {
   "cell_type": "code",
   "execution_count": 11,
   "id": "43f22014",
   "metadata": {},
   "outputs": [
    {
     "data": {
      "text/plain": [
       "2e-05"
      ]
     },
     "execution_count": 11,
     "metadata": {},
     "output_type": "execute_result"
    }
   ],
   "source": [
    "calculate_sum(4,2)"
   ]
  },
  {
   "cell_type": "markdown",
   "id": "64798110",
   "metadata": {},
   "source": [
    "## Part 2: Numpy"
   ]
  },
  {
   "cell_type": "code",
   "execution_count": 12,
   "id": "d089f4c5",
   "metadata": {},
   "outputs": [
    {
     "data": {
      "text/plain": [
       "array([[117356,  79193, 402701, 117143, 285000],\n",
       "       [306938, 482663, 340715, 187037, 489099],\n",
       "       [361681, 301630, 237033, 384878, 202395],\n",
       "       [455706,  66008, 310263, 272876, 121377],\n",
       "       [364536, 164101, 393166, 244875, 302731],\n",
       "       [ 79361,  61911, 236629, 243846, 376358],\n",
       "       [271993, 313446, 268330, 493289, 426216],\n",
       "       [  8772, 427728,  95557, 332750, 273582],\n",
       "       [ 68988,  16146, 130812, 185335, 153473],\n",
       "       [224416, 213770, 365756,  49180, 103414],\n",
       "       [172251, 436012, 294647,  75763, 274690],\n",
       "       [  3965, 348488, 178281, 490176, 370571],\n",
       "       [100398, 417520, 305183, 447380, 386626],\n",
       "       [404538, 385612, 153806, 211282, 342374],\n",
       "       [ 60174, 338873, 423248, 214698, 168576],\n",
       "       [476438,  43534, 254276, 165950, 274763],\n",
       "       [ 65263, 386490, 268751,  57949, 343279],\n",
       "       [450493, 298506,   4431, 211333, 108723],\n",
       "       [270822, 481845,  16642, 329868, 165861],\n",
       "       [405362, 323972, 471053, 211869,  81750],\n",
       "       [313833, 134546,  79188, 270712, 137777],\n",
       "       [354212, 274024, 298962, 291211,  74549],\n",
       "       [  3903, 306390, 288309, 201028, 494905],\n",
       "       [447463, 403450, 144433, 423241, 433646],\n",
       "       [112309, 152164, 285783, 194007, 463801],\n",
       "       [474381, 306739,   9276, 452346, 230477],\n",
       "       [481080,  83746, 366033,  68800, 426501],\n",
       "       [280396,  45408, 420537, 135292, 251291],\n",
       "       [118194,  13085, 249639,  38281, 156515],\n",
       "       [132476, 417382, 194205,  74306, 343248],\n",
       "       [263715, 191233, 354267,   8348, 495020],\n",
       "       [365868, 471620, 222228, 152316, 322068],\n",
       "       [217820,  49359, 285387,  21583, 350203],\n",
       "       [145641, 101231, 430336,  59550, 463147],\n",
       "       [183715, 305827, 302543, 188453, 237000],\n",
       "       [ 95144, 372070,  18455,  69706, 301087],\n",
       "       [493934,  13652, 275401, 122461, 315542],\n",
       "       [388819,  60478, 415747, 406506, 473085],\n",
       "       [150724,  57940,  94885, 101176, 198385],\n",
       "       [101413,  71350, 276904, 280074, 290324],\n",
       "       [178205, 247621, 284356, 210916, 487022],\n",
       "       [ 41202, 230490, 448883, 277469, 422523],\n",
       "       [144934, 236785, 312883, 185775, 335966],\n",
       "       [ 89719, 234304,  39807, 168712, 348289],\n",
       "       [ 63803,  10550,   6449, 170069,  35589],\n",
       "       [477263,  14060, 384474, 357074,  30968],\n",
       "       [187681, 318956,  23927, 435999, 166127],\n",
       "       [ 54628, 101576, 461472, 340576, 185647],\n",
       "       [260394,  32365, 336439, 384599,  48015],\n",
       "       [152403,  16347, 117748, 403583, 364162],\n",
       "       [211166, 203736,  49466, 306523, 428396],\n",
       "       [114866, 261539, 440881, 362763, 159729],\n",
       "       [425294, 482596, 299292, 355930, 111776],\n",
       "       [ 98824,   3921, 273758, 118399, 430826],\n",
       "       [438208, 381271, 339900,  80657,  50203],\n",
       "       [474743, 471600, 353567, 450765, 296258],\n",
       "       [ 33415, 104288, 367591, 323201, 354633],\n",
       "       [424392, 131955,  28204, 313363, 290467],\n",
       "       [376520, 170149, 214179, 205539, 163528],\n",
       "       [ 61034, 322362, 376660, 184010, 309345],\n",
       "       [286925, 323248, 474445, 473328, 477337],\n",
       "       [390292, 214228, 229392, 324264,  91835],\n",
       "       [390826, 402078, 335505, 472759, 155112],\n",
       "       [202409, 283000, 102724, 196553, 310444],\n",
       "       [262396, 157409, 199013, 267656, 484045],\n",
       "       [208658, 201896, 113097, 347062, 364805],\n",
       "       [250666, 222504, 376317, 479592, 493836],\n",
       "       [229781, 359432, 272322, 341494,  16717],\n",
       "       [280897,  39074, 334878, 101829,  67820],\n",
       "       [488769, 247540, 143353, 285099, 140820],\n",
       "       [300867, 495427, 373674,  49985,  69313],\n",
       "       [198232, 223241, 497281, 421842,  79169],\n",
       "       [496639, 299713, 255833, 432043,  12777],\n",
       "       [437581, 291642, 148043, 477607, 112096],\n",
       "       [ 67864,  44283,  69392, 382337, 284343],\n",
       "       [293189, 180281, 291319, 363481, 435428],\n",
       "       [459072, 443134,  11440, 186101, 275322],\n",
       "       [227867, 324407, 422703, 482207, 188337],\n",
       "       [ 32275,  17736, 451824, 335077, 479673],\n",
       "       [  4951, 421401, 459572, 355113, 412146],\n",
       "       [249808, 138691, 314608, 260414, 376289],\n",
       "       [383590, 162707, 258334, 434896,  53880],\n",
       "       [374156, 230751, 374337, 290961,  66454],\n",
       "       [326880, 488671, 405650, 313874, 400569],\n",
       "       [ 32656, 461726, 304489,  15001,  33060],\n",
       "       [481390, 181060,  37369, 412141, 366134],\n",
       "       [ 85716, 113532, 246890, 258636, 391593],\n",
       "       [363026, 282380, 227961, 367884, 383101],\n",
       "       [267678,  98615, 153772, 448604,  44697],\n",
       "       [109702,  55407,  97120, 170272,  85218],\n",
       "       [362417,  12991, 315547,  13608, 191483],\n",
       "       [361957, 473101,  27746, 369041, 379912],\n",
       "       [360818, 323716, 109783,  79343,  86940],\n",
       "       [ 44999, 263884, 233513, 130902, 317999],\n",
       "       [353540, 254496, 241344, 327760, 175980],\n",
       "       [197694, 457353, 442152, 181599, 497937],\n",
       "       [346809, 425322, 325502, 311691, 289366],\n",
       "       [427003,   5406, 313027,  79199, 397995],\n",
       "       [ 98327, 323324,  68021, 211022, 331601],\n",
       "       [187769, 479679, 227348,   5848, 382203]])"
      ]
     },
     "execution_count": 12,
     "metadata": {},
     "output_type": "execute_result"
    }
   ],
   "source": [
    "np.random.seed(14) # This guarantees the code will generate the same set of random numbers whenever executed\n",
    "random_integers = np.random.randint(1,high=500000, size=(100, 5))\n",
    "random_integers"
   ]
  },
  {
   "cell_type": "markdown",
   "id": "a6afa668",
   "metadata": {},
   "source": [
    "Question 1: What is the arithmetic mean of the second column (i.e. the column that starts with 79193) to two decimal places?"
   ]
  },
  {
   "cell_type": "code",
   "execution_count": 13,
   "id": "df915e9f",
   "metadata": {},
   "outputs": [
    {
     "data": {
      "text/plain": [
       "array([ 79193, 482663, 301630,  66008, 164101,  61911, 313446, 427728,\n",
       "        16146, 213770, 436012, 348488, 417520, 385612, 338873,  43534,\n",
       "       386490, 298506, 481845, 323972, 134546, 274024, 306390, 403450,\n",
       "       152164, 306739,  83746,  45408,  13085, 417382, 191233, 471620,\n",
       "        49359, 101231, 305827, 372070,  13652,  60478,  57940,  71350,\n",
       "       247621, 230490, 236785, 234304,  10550,  14060, 318956, 101576,\n",
       "        32365,  16347, 203736, 261539, 482596,   3921, 381271, 471600,\n",
       "       104288, 131955, 170149, 322362, 323248, 214228, 402078, 283000,\n",
       "       157409, 201896, 222504, 359432,  39074, 247540, 495427, 223241,\n",
       "       299713, 291642,  44283, 180281, 443134, 324407,  17736, 421401,\n",
       "       138691, 162707, 230751, 488671, 461726, 181060, 113532, 282380,\n",
       "        98615,  55407,  12991, 473101, 323716, 263884, 254496, 457353,\n",
       "       425322,   5406, 323324, 479679])"
      ]
     },
     "execution_count": 13,
     "metadata": {},
     "output_type": "execute_result"
    }
   ],
   "source": [
    "second_column = random_integers[:,1]\n",
    "second_column"
   ]
  },
  {
   "cell_type": "code",
   "execution_count": 14,
   "id": "cfa6c609",
   "metadata": {},
   "outputs": [
    {
     "data": {
      "text/plain": [
       "238200.99"
      ]
     },
     "execution_count": 14,
     "metadata": {},
     "output_type": "execute_result"
    }
   ],
   "source": [
    "round(np.mean(second_column), 2)"
   ]
  },
  {
   "cell_type": "markdown",
   "id": "acdceee8",
   "metadata": {},
   "source": [
    "Question 2: What is the arithmetic mean of the first 20 rows of the third and fourth columns (the columns starting with 402701 and 117143) to two decimal places?"
   ]
  },
  {
   "cell_type": "code",
   "execution_count": 15,
   "id": "b59d92a2",
   "metadata": {},
   "outputs": [
    {
     "data": {
      "text/plain": [
       "array([[402701, 117143],\n",
       "       [340715, 187037],\n",
       "       [237033, 384878],\n",
       "       [310263, 272876],\n",
       "       [393166, 244875],\n",
       "       [236629, 243846],\n",
       "       [268330, 493289],\n",
       "       [ 95557, 332750],\n",
       "       [130812, 185335],\n",
       "       [365756,  49180],\n",
       "       [294647,  75763],\n",
       "       [178281, 490176],\n",
       "       [305183, 447380],\n",
       "       [153806, 211282],\n",
       "       [423248, 214698],\n",
       "       [254276, 165950],\n",
       "       [268751,  57949],\n",
       "       [  4431, 211333],\n",
       "       [ 16642, 329868],\n",
       "       [471053, 211869]])"
      ]
     },
     "execution_count": 15,
     "metadata": {},
     "output_type": "execute_result"
    }
   ],
   "source": [
    "first_20 = random_integers[:20, 2:4]\n",
    "first_20"
   ]
  },
  {
   "cell_type": "code",
   "execution_count": 16,
   "id": "458f422c",
   "metadata": {},
   "outputs": [
    {
     "data": {
      "text/plain": [
       "251968.92"
      ]
     },
     "execution_count": 16,
     "metadata": {},
     "output_type": "execute_result"
    }
   ],
   "source": [
    "round(np.mean(first_20), 2)"
   ]
  },
  {
   "cell_type": "markdown",
   "id": "48da1977",
   "metadata": {},
   "source": [
    "Question 3: Build a matrix with 3 columns and 8 rows with the numbers 1, 2, 3...23, 24 as entries moving across the rows. It should kinda look like this, but bigger:\n",
    "\n",
    "$$\n",
    "\\begin{pmatrix}\n",
    "1 &amp; 2 &amp; 3\\\\\n",
    "4 &amp; 5 &amp; 6 \\\\ \n",
    "7 &amp; 8 &amp; 9 \\\\\n",
    "\\vdots &amp; \\vdots &amp; \\vdots \\\\\n",
    "\\end{pmatrix}\n",
    "$$\n",
    "What is the average (mean) of the square root of all entries the second column (to two decimal places)?\n",
    "\n",
    "(Hint: you can make the matrix by hand, or you can combine range and reshape, which you can learn about [here](https://docs.scipy.org/doc/numpy/reference/generated/numpy.reshape.html])!"
   ]
  },
  {
   "cell_type": "code",
   "execution_count": 17,
   "id": "823557db",
   "metadata": {},
   "outputs": [
    {
     "data": {
      "text/plain": [
       "array([[ 1,  2,  3],\n",
       "       [ 4,  5,  6],\n",
       "       [ 7,  8,  9],\n",
       "       [10, 11, 12],\n",
       "       [13, 14, 15],\n",
       "       [16, 17, 18],\n",
       "       [19, 20, 21],\n",
       "       [22, 23, 24]])"
      ]
     },
     "execution_count": 17,
     "metadata": {},
     "output_type": "execute_result"
    }
   ],
   "source": [
    "ranges = (1,25)\n",
    "matrix = np.arange(1,25).reshape(8,3)\n",
    "matrix"
   ]
  },
  {
   "cell_type": "code",
   "execution_count": 18,
   "id": "b50df5bb",
   "metadata": {},
   "outputs": [
    {
     "data": {
      "text/plain": [
       "array([ 2,  5,  8, 11, 14, 17, 20, 23])"
      ]
     },
     "execution_count": 18,
     "metadata": {},
     "output_type": "execute_result"
    }
   ],
   "source": [
    "second_column = matrix[:, 1]\n",
    "second_column"
   ]
  },
  {
   "cell_type": "code",
   "execution_count": 19,
   "id": "3935a17c",
   "metadata": {},
   "outputs": [],
   "source": [
    "square_root = second_column ** 2"
   ]
  },
  {
   "cell_type": "code",
   "execution_count": 20,
   "id": "18430003",
   "metadata": {},
   "outputs": [
    {
     "data": {
      "text/plain": [
       "array([  4,  25,  64, 121, 196, 289, 400, 529])"
      ]
     },
     "execution_count": 20,
     "metadata": {},
     "output_type": "execute_result"
    }
   ],
   "source": [
    "square_root"
   ]
  },
  {
   "cell_type": "code",
   "execution_count": 21,
   "id": "7a029e21",
   "metadata": {},
   "outputs": [],
   "source": [
    "mean = round(np.mean(square_root))"
   ]
  },
  {
   "cell_type": "code",
   "execution_count": 22,
   "id": "3018ccc9",
   "metadata": {},
   "outputs": [
    {
     "data": {
      "text/plain": [
       "204"
      ]
     },
     "execution_count": 22,
     "metadata": {},
     "output_type": "execute_result"
    }
   ],
   "source": [
    "mean"
   ]
  },
  {
   "cell_type": "markdown",
   "id": "f12e5617",
   "metadata": {},
   "source": [
    "## Part 3: Pandas"
   ]
  },
  {
   "cell_type": "code",
   "execution_count": 23,
   "id": "fc482976",
   "metadata": {},
   "outputs": [
    {
     "data": {
      "text/html": [
       "<div>\n",
       "<style scoped>\n",
       "    .dataframe tbody tr th:only-of-type {\n",
       "        vertical-align: middle;\n",
       "    }\n",
       "\n",
       "    .dataframe tbody tr th {\n",
       "        vertical-align: top;\n",
       "    }\n",
       "\n",
       "    .dataframe thead th {\n",
       "        text-align: right;\n",
       "    }\n",
       "</style>\n",
       "<table border=\"1\" class=\"dataframe\">\n",
       "  <thead>\n",
       "    <tr style=\"text-align: right;\">\n",
       "      <th></th>\n",
       "      <th>country</th>\n",
       "      <th>region</th>\n",
       "      <th>gdppcap08</th>\n",
       "      <th>polityIV</th>\n",
       "    </tr>\n",
       "  </thead>\n",
       "  <tbody>\n",
       "    <tr>\n",
       "      <th>0</th>\n",
       "      <td>Albania</td>\n",
       "      <td>C&amp;E Europe</td>\n",
       "      <td>7715</td>\n",
       "      <td>17.8</td>\n",
       "    </tr>\n",
       "    <tr>\n",
       "      <th>1</th>\n",
       "      <td>Algeria</td>\n",
       "      <td>Africa</td>\n",
       "      <td>8033</td>\n",
       "      <td>10.0</td>\n",
       "    </tr>\n",
       "    <tr>\n",
       "      <th>2</th>\n",
       "      <td>Angola</td>\n",
       "      <td>Africa</td>\n",
       "      <td>5899</td>\n",
       "      <td>8.0</td>\n",
       "    </tr>\n",
       "    <tr>\n",
       "      <th>3</th>\n",
       "      <td>Argentina</td>\n",
       "      <td>S. America</td>\n",
       "      <td>14333</td>\n",
       "      <td>18.0</td>\n",
       "    </tr>\n",
       "    <tr>\n",
       "      <th>4</th>\n",
       "      <td>Armenia</td>\n",
       "      <td>C&amp;E Europe</td>\n",
       "      <td>6070</td>\n",
       "      <td>15.0</td>\n",
       "    </tr>\n",
       "  </tbody>\n",
       "</table>\n",
       "</div>"
      ],
      "text/plain": [
       "     country      region  gdppcap08  polityIV\n",
       "0    Albania  C&E Europe       7715      17.8\n",
       "1    Algeria      Africa       8033      10.0\n",
       "2     Angola      Africa       5899       8.0\n",
       "3  Argentina  S. America      14333      18.0\n",
       "4    Armenia  C&E Europe       6070      15.0"
      ]
     },
     "execution_count": 23,
     "metadata": {},
     "output_type": "execute_result"
    }
   ],
   "source": [
    "#read data\n",
    "df = pd.read_csv('world-small.csv')\n",
    "df.head()"
   ]
  },
  {
   "cell_type": "markdown",
   "id": "b45621cf",
   "metadata": {},
   "source": [
    "Question 1: How many rows are in this dataset?"
   ]
  },
  {
   "cell_type": "code",
   "execution_count": 24,
   "id": "cd7cfdcf",
   "metadata": {},
   "outputs": [
    {
     "data": {
      "text/plain": [
       "(145, 4)"
      ]
     },
     "execution_count": 24,
     "metadata": {},
     "output_type": "execute_result"
    }
   ],
   "source": [
    "df.shape"
   ]
  },
  {
   "cell_type": "markdown",
   "id": "4035aeea",
   "metadata": {},
   "source": [
    "Question 2: In alphabetical order, what countries had GDP per Capita values in 2008 (the variable gdppcap08) above 17,000 and below 20,000.\n",
    "\n",
    "Please just type the country names with the same capitalization as is found in the original data using only spaces to separate values."
   ]
  },
  {
   "cell_type": "code",
   "execution_count": 25,
   "id": "e996d13f",
   "metadata": {},
   "outputs": [],
   "source": [
    "df_gdp_btn = df[np.logical_and((df.gdppcap08 >= 17000) , (df.gdppcap08 <= 20000))]"
   ]
  },
  {
   "cell_type": "code",
   "execution_count": 26,
   "id": "7fb35268",
   "metadata": {},
   "outputs": [
    {
     "data": {
      "text/html": [
       "<div>\n",
       "<style scoped>\n",
       "    .dataframe tbody tr th:only-of-type {\n",
       "        vertical-align: middle;\n",
       "    }\n",
       "\n",
       "    .dataframe tbody tr th {\n",
       "        vertical-align: top;\n",
       "    }\n",
       "\n",
       "    .dataframe thead th {\n",
       "        text-align: right;\n",
       "    }\n",
       "</style>\n",
       "<table border=\"1\" class=\"dataframe\">\n",
       "  <thead>\n",
       "    <tr style=\"text-align: right;\">\n",
       "      <th></th>\n",
       "      <th>country</th>\n",
       "      <th>region</th>\n",
       "      <th>gdppcap08</th>\n",
       "      <th>polityIV</th>\n",
       "    </tr>\n",
       "  </thead>\n",
       "  <tbody>\n",
       "    <tr>\n",
       "      <th>31</th>\n",
       "      <td>Croatia</td>\n",
       "      <td>C&amp;E Europe</td>\n",
       "      <td>19084</td>\n",
       "      <td>18.4</td>\n",
       "    </tr>\n",
       "    <tr>\n",
       "      <th>57</th>\n",
       "      <td>Hungary</td>\n",
       "      <td>C&amp;E Europe</td>\n",
       "      <td>19330</td>\n",
       "      <td>20.0</td>\n",
       "    </tr>\n",
       "    <tr>\n",
       "      <th>74</th>\n",
       "      <td>Latvia</td>\n",
       "      <td>C&amp;E Europe</td>\n",
       "      <td>17100</td>\n",
       "      <td>18.0</td>\n",
       "    </tr>\n",
       "    <tr>\n",
       "      <th>78</th>\n",
       "      <td>Lithuania</td>\n",
       "      <td>C&amp;E Europe</td>\n",
       "      <td>18824</td>\n",
       "      <td>20.0</td>\n",
       "    </tr>\n",
       "    <tr>\n",
       "      <th>105</th>\n",
       "      <td>Poland</td>\n",
       "      <td>C&amp;E Europe</td>\n",
       "      <td>17625</td>\n",
       "      <td>20.0</td>\n",
       "    </tr>\n",
       "  </tbody>\n",
       "</table>\n",
       "</div>"
      ],
      "text/plain": [
       "       country      region  gdppcap08  polityIV\n",
       "31     Croatia  C&E Europe      19084      18.4\n",
       "57     Hungary  C&E Europe      19330      20.0\n",
       "74      Latvia  C&E Europe      17100      18.0\n",
       "78   Lithuania  C&E Europe      18824      20.0\n",
       "105     Poland  C&E Europe      17625      20.0"
      ]
     },
     "execution_count": 26,
     "metadata": {},
     "output_type": "execute_result"
    }
   ],
   "source": [
    "df_gdp_btn.head()"
   ]
  },
  {
   "cell_type": "markdown",
   "id": "d8a29658",
   "metadata": {},
   "source": [
    "Question 3: What country in this data has the lowest GDP Per Capita?"
   ]
  },
  {
   "cell_type": "code",
   "execution_count": 27,
   "id": "f0b805dd",
   "metadata": {},
   "outputs": [
    {
     "data": {
      "text/plain": [
       "17100"
      ]
     },
     "execution_count": 27,
     "metadata": {},
     "output_type": "execute_result"
    }
   ],
   "source": [
    "df_gdp_btn.gdppcap08.min()"
   ]
  },
  {
   "cell_type": "markdown",
   "id": "effcaab7",
   "metadata": {},
   "source": [
    "Question 4: The polityIV variable in this data is an expert score for a country's authoritarianism. Traditionally, values of -10 are extreme autocracies, while values of 10 are consolidated liberal democracies, although in this dataset they have been rescaled to run from 0-20, where 0 is an extreme autocracy, and 20 is a consolidated liberal democracy. What is the average (rescaled) polity score for the 10 poorest countries in this data (to two decimal places)?"
   ]
  },
  {
   "cell_type": "code",
   "execution_count": 28,
   "id": "9c010657",
   "metadata": {},
   "outputs": [
    {
     "data": {
      "text/html": [
       "<div>\n",
       "<style scoped>\n",
       "    .dataframe tbody tr th:only-of-type {\n",
       "        vertical-align: middle;\n",
       "    }\n",
       "\n",
       "    .dataframe tbody tr th {\n",
       "        vertical-align: top;\n",
       "    }\n",
       "\n",
       "    .dataframe thead th {\n",
       "        text-align: right;\n",
       "    }\n",
       "</style>\n",
       "<table border=\"1\" class=\"dataframe\">\n",
       "  <thead>\n",
       "    <tr style=\"text-align: right;\">\n",
       "      <th></th>\n",
       "      <th>gdppcap08</th>\n",
       "      <th>polityIV</th>\n",
       "    </tr>\n",
       "  </thead>\n",
       "  <tbody>\n",
       "    <tr>\n",
       "      <th>count</th>\n",
       "      <td>145.000000</td>\n",
       "      <td>145.000000</td>\n",
       "    </tr>\n",
       "    <tr>\n",
       "      <th>mean</th>\n",
       "      <td>13251.993103</td>\n",
       "      <td>13.407816</td>\n",
       "    </tr>\n",
       "    <tr>\n",
       "      <th>std</th>\n",
       "      <td>14802.581676</td>\n",
       "      <td>6.587626</td>\n",
       "    </tr>\n",
       "    <tr>\n",
       "      <th>min</th>\n",
       "      <td>188.000000</td>\n",
       "      <td>0.000000</td>\n",
       "    </tr>\n",
       "    <tr>\n",
       "      <th>25%</th>\n",
       "      <td>2153.000000</td>\n",
       "      <td>7.666667</td>\n",
       "    </tr>\n",
       "    <tr>\n",
       "      <th>50%</th>\n",
       "      <td>7271.000000</td>\n",
       "      <td>16.000000</td>\n",
       "    </tr>\n",
       "    <tr>\n",
       "      <th>75%</th>\n",
       "      <td>19330.000000</td>\n",
       "      <td>19.000000</td>\n",
       "    </tr>\n",
       "    <tr>\n",
       "      <th>max</th>\n",
       "      <td>85868.000000</td>\n",
       "      <td>20.000000</td>\n",
       "    </tr>\n",
       "  </tbody>\n",
       "</table>\n",
       "</div>"
      ],
      "text/plain": [
       "          gdppcap08    polityIV\n",
       "count    145.000000  145.000000\n",
       "mean   13251.993103   13.407816\n",
       "std    14802.581676    6.587626\n",
       "min      188.000000    0.000000\n",
       "25%     2153.000000    7.666667\n",
       "50%     7271.000000   16.000000\n",
       "75%    19330.000000   19.000000\n",
       "max    85868.000000   20.000000"
      ]
     },
     "execution_count": 28,
     "metadata": {},
     "output_type": "execute_result"
    }
   ],
   "source": [
    "df.describe()"
   ]
  },
  {
   "cell_type": "code",
   "execution_count": 29,
   "id": "54968438",
   "metadata": {},
   "outputs": [],
   "source": [
    "sort_df_gdppcap08 = df.sort_values('gdppcap08')"
   ]
  },
  {
   "cell_type": "code",
   "execution_count": 30,
   "id": "507cc478",
   "metadata": {},
   "outputs": [],
   "source": [
    "poor_10 = sort_df_gdppcap08.iloc[:10]"
   ]
  },
  {
   "cell_type": "code",
   "execution_count": 31,
   "id": "797dfefd",
   "metadata": {},
   "outputs": [
    {
     "data": {
      "text/html": [
       "<div>\n",
       "<style scoped>\n",
       "    .dataframe tbody tr th:only-of-type {\n",
       "        vertical-align: middle;\n",
       "    }\n",
       "\n",
       "    .dataframe tbody tr th {\n",
       "        vertical-align: top;\n",
       "    }\n",
       "\n",
       "    .dataframe thead th {\n",
       "        text-align: right;\n",
       "    }\n",
       "</style>\n",
       "<table border=\"1\" class=\"dataframe\">\n",
       "  <thead>\n",
       "    <tr style=\"text-align: right;\">\n",
       "      <th></th>\n",
       "      <th>country</th>\n",
       "      <th>region</th>\n",
       "      <th>gdppcap08</th>\n",
       "      <th>polityIV</th>\n",
       "    </tr>\n",
       "  </thead>\n",
       "  <tbody>\n",
       "    <tr>\n",
       "      <th>144</th>\n",
       "      <td>Zimbabwe</td>\n",
       "      <td>Africa</td>\n",
       "      <td>188</td>\n",
       "      <td>6.000000</td>\n",
       "    </tr>\n",
       "    <tr>\n",
       "      <th>29</th>\n",
       "      <td>Congo Kinshasa</td>\n",
       "      <td>Africa</td>\n",
       "      <td>321</td>\n",
       "      <td>15.000000</td>\n",
       "    </tr>\n",
       "    <tr>\n",
       "      <th>76</th>\n",
       "      <td>Liberia</td>\n",
       "      <td>Africa</td>\n",
       "      <td>388</td>\n",
       "      <td>10.000000</td>\n",
       "    </tr>\n",
       "    <tr>\n",
       "      <th>53</th>\n",
       "      <td>Guinea-Bissau</td>\n",
       "      <td>Africa</td>\n",
       "      <td>538</td>\n",
       "      <td>11.000000</td>\n",
       "    </tr>\n",
       "    <tr>\n",
       "      <th>40</th>\n",
       "      <td>Eritrea</td>\n",
       "      <td>Africa</td>\n",
       "      <td>632</td>\n",
       "      <td>3.000000</td>\n",
       "    </tr>\n",
       "    <tr>\n",
       "      <th>96</th>\n",
       "      <td>Niger</td>\n",
       "      <td>Africa</td>\n",
       "      <td>684</td>\n",
       "      <td>15.333333</td>\n",
       "    </tr>\n",
       "    <tr>\n",
       "      <th>22</th>\n",
       "      <td>Central African Republic</td>\n",
       "      <td>Africa</td>\n",
       "      <td>736</td>\n",
       "      <td>10.200000</td>\n",
       "    </tr>\n",
       "    <tr>\n",
       "      <th>113</th>\n",
       "      <td>Sierra Leone</td>\n",
       "      <td>Africa</td>\n",
       "      <td>766</td>\n",
       "      <td>15.000000</td>\n",
       "    </tr>\n",
       "    <tr>\n",
       "      <th>129</th>\n",
       "      <td>Togo</td>\n",
       "      <td>Africa</td>\n",
       "      <td>829</td>\n",
       "      <td>8.000000</td>\n",
       "    </tr>\n",
       "    <tr>\n",
       "      <th>81</th>\n",
       "      <td>Malawi</td>\n",
       "      <td>Africa</td>\n",
       "      <td>837</td>\n",
       "      <td>15.000000</td>\n",
       "    </tr>\n",
       "  </tbody>\n",
       "</table>\n",
       "</div>"
      ],
      "text/plain": [
       "                      country  region  gdppcap08   polityIV\n",
       "144                  Zimbabwe  Africa        188   6.000000\n",
       "29             Congo Kinshasa  Africa        321  15.000000\n",
       "76                    Liberia  Africa        388  10.000000\n",
       "53              Guinea-Bissau  Africa        538  11.000000\n",
       "40                    Eritrea  Africa        632   3.000000\n",
       "96                      Niger  Africa        684  15.333333\n",
       "22   Central African Republic  Africa        736  10.200000\n",
       "113              Sierra Leone  Africa        766  15.000000\n",
       "129                      Togo  Africa        829   8.000000\n",
       "81                     Malawi  Africa        837  15.000000"
      ]
     },
     "execution_count": 31,
     "metadata": {},
     "output_type": "execute_result"
    }
   ],
   "source": [
    "poor_10"
   ]
  },
  {
   "cell_type": "code",
   "execution_count": 32,
   "id": "4ac1ae72",
   "metadata": {},
   "outputs": [
    {
     "data": {
      "text/plain": [
       "10.85"
      ]
     },
     "execution_count": 32,
     "metadata": {},
     "output_type": "execute_result"
    }
   ],
   "source": [
    "round(poor_10.polityIV.mean(), 2)"
   ]
  },
  {
   "cell_type": "markdown",
   "id": "f89cb5f2",
   "metadata": {},
   "source": [
    "Question 5: What is the average polity score for the 10 richest countries (to one decimal place)?"
   ]
  },
  {
   "cell_type": "code",
   "execution_count": 33,
   "id": "a5202e15",
   "metadata": {},
   "outputs": [
    {
     "data": {
      "text/html": [
       "<div>\n",
       "<style scoped>\n",
       "    .dataframe tbody tr th:only-of-type {\n",
       "        vertical-align: middle;\n",
       "    }\n",
       "\n",
       "    .dataframe tbody tr th {\n",
       "        vertical-align: top;\n",
       "    }\n",
       "\n",
       "    .dataframe thead th {\n",
       "        text-align: right;\n",
       "    }\n",
       "</style>\n",
       "<table border=\"1\" class=\"dataframe\">\n",
       "  <thead>\n",
       "    <tr style=\"text-align: right;\">\n",
       "      <th></th>\n",
       "      <th>country</th>\n",
       "      <th>region</th>\n",
       "      <th>gdppcap08</th>\n",
       "      <th>polityIV</th>\n",
       "    </tr>\n",
       "  </thead>\n",
       "  <tbody>\n",
       "    <tr>\n",
       "      <th>6</th>\n",
       "      <td>Austria</td>\n",
       "      <td>W. Europe</td>\n",
       "      <td>38152</td>\n",
       "      <td>20.0</td>\n",
       "    </tr>\n",
       "    <tr>\n",
       "      <th>133</th>\n",
       "      <td>UAE</td>\n",
       "      <td>Middle East</td>\n",
       "      <td>38830</td>\n",
       "      <td>2.0</td>\n",
       "    </tr>\n",
       "    <tr>\n",
       "      <th>71</th>\n",
       "      <td>Kuwait</td>\n",
       "      <td>Middle East</td>\n",
       "      <td>39914</td>\n",
       "      <td>3.0</td>\n",
       "    </tr>\n",
       "    <tr>\n",
       "      <th>93</th>\n",
       "      <td>Netherlands</td>\n",
       "      <td>W. Europe</td>\n",
       "      <td>40849</td>\n",
       "      <td>20.0</td>\n",
       "    </tr>\n",
       "    <tr>\n",
       "      <th>124</th>\n",
       "      <td>Switzerland</td>\n",
       "      <td>W. Europe</td>\n",
       "      <td>42536</td>\n",
       "      <td>20.0</td>\n",
       "    </tr>\n",
       "    <tr>\n",
       "      <th>62</th>\n",
       "      <td>Ireland</td>\n",
       "      <td>W. Europe</td>\n",
       "      <td>44200</td>\n",
       "      <td>20.0</td>\n",
       "    </tr>\n",
       "    <tr>\n",
       "      <th>137</th>\n",
       "      <td>United States</td>\n",
       "      <td>N. America</td>\n",
       "      <td>46716</td>\n",
       "      <td>20.0</td>\n",
       "    </tr>\n",
       "    <tr>\n",
       "      <th>114</th>\n",
       "      <td>Singapore</td>\n",
       "      <td>Asia-Pacific</td>\n",
       "      <td>49284</td>\n",
       "      <td>8.0</td>\n",
       "    </tr>\n",
       "    <tr>\n",
       "      <th>98</th>\n",
       "      <td>Norway</td>\n",
       "      <td>Scandinavia</td>\n",
       "      <td>58138</td>\n",
       "      <td>20.0</td>\n",
       "    </tr>\n",
       "    <tr>\n",
       "      <th>107</th>\n",
       "      <td>Qatar</td>\n",
       "      <td>Middle East</td>\n",
       "      <td>85868</td>\n",
       "      <td>0.0</td>\n",
       "    </tr>\n",
       "  </tbody>\n",
       "</table>\n",
       "</div>"
      ],
      "text/plain": [
       "           country        region  gdppcap08  polityIV\n",
       "6          Austria     W. Europe      38152      20.0\n",
       "133            UAE   Middle East      38830       2.0\n",
       "71          Kuwait   Middle East      39914       3.0\n",
       "93     Netherlands     W. Europe      40849      20.0\n",
       "124    Switzerland     W. Europe      42536      20.0\n",
       "62         Ireland     W. Europe      44200      20.0\n",
       "137  United States    N. America      46716      20.0\n",
       "114      Singapore  Asia-Pacific      49284       8.0\n",
       "98          Norway   Scandinavia      58138      20.0\n",
       "107          Qatar   Middle East      85868       0.0"
      ]
     },
     "execution_count": 33,
     "metadata": {},
     "output_type": "execute_result"
    }
   ],
   "source": [
    "rich_10 = sort_df_gdppcap08.iloc[-10:]\n",
    "rich_10"
   ]
  },
  {
   "cell_type": "code",
   "execution_count": 34,
   "id": "edceee6f",
   "metadata": {},
   "outputs": [
    {
     "data": {
      "text/plain": [
       "13.3"
      ]
     },
     "execution_count": 34,
     "metadata": {},
     "output_type": "execute_result"
    }
   ],
   "source": [
    "round(rich_10.polityIV.mean(), 1)"
   ]
  },
  {
   "cell_type": "code",
   "execution_count": null,
   "id": "f24d0277",
   "metadata": {},
   "outputs": [],
   "source": []
  }
 ],
 "metadata": {
  "kernelspec": {
   "display_name": "Python 3",
   "language": "python",
   "name": "python3"
  },
  "language_info": {
   "codemirror_mode": {
    "name": "ipython",
    "version": 3
   },
   "file_extension": ".py",
   "mimetype": "text/x-python",
   "name": "python",
   "nbconvert_exporter": "python",
   "pygments_lexer": "ipython3",
   "version": "3.9.2"
  }
 },
 "nbformat": 4,
 "nbformat_minor": 5
}
